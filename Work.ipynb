{
 "cells": [
  {
   "cell_type": "markdown",
   "id": "09118009-10c2-48d3-b13f-21cfe89544d0",
   "metadata": {},
   "source": [
    "# Lab2\n",
    "By Yurii Voieividka"
   ]
  },
  {
   "cell_type": "markdown",
   "id": "f1882279-a6ae-4b6c-a6bf-d22bf7b3b9c2",
   "metadata": {},
   "source": [
    "## Task 1"
   ]
  },
  {
   "cell_type": "code",
   "execution_count": 1,
   "id": "94fa04b9-567c-4dd9-9580-74f9e43b5f75",
   "metadata": {},
   "outputs": [],
   "source": [
    "import numpy as np\n",
    "import pandas as pd\n",
    "import matplotlib.pyplot as plt \n",
    "import seaborn as sns\n",
    "import warnings \n",
    "\n",
    "\n",
    "warnings.filterwarnings('ignore')"
   ]
  },
  {
   "cell_type": "code",
   "execution_count": 2,
   "id": "5946f576-bdd0-4a52-8bc8-6d8449d70499",
   "metadata": {},
   "outputs": [],
   "source": [
    "raw_data = pd.read_csv('./train.csv')\n",
    "x_train = raw_data.drop(labels=['label'], axis=1)\n",
    "y_train = raw_data['label']"
   ]
  },
  {
   "cell_type": "code",
   "execution_count": 3,
   "id": "af04f96a-af2d-41b5-8b18-919c3b56a3d9",
   "metadata": {},
   "outputs": [
    {
     "name": "stdout",
     "output_type": "stream",
     "text": [
      "x_train shape (37800, 784)\n"
     ]
    }
   ],
   "source": [
    "from sklearn.model_selection import train_test_split\n",
    "x_train, x_test, y_train, y_test = train_test_split(x_train, y_train, test_size =0.1, random_state=2)\n",
    "print(\"x_train shape\",x_train.shape)"
   ]
  },
  {
   "cell_type": "code",
   "execution_count": 4,
   "id": "1c786b0b-fd81-4e7c-b2f1-48d79fcaee89",
   "metadata": {},
   "outputs": [
    {
     "name": "stdout",
     "output_type": "stream",
     "text": [
      "x_train shape: (37800, 784)\n",
      "x_test shape: (4200, 784)\n"
     ]
    }
   ],
   "source": [
    "#Normilize the data\n",
    "x_train = x_train / 255.0\n",
    "x_test = x_test / 255.0\n",
    "\n",
    "print('x_train shape:', x_train.shape)\n",
    "print('x_test shape:', x_test.shape)"
   ]
  },
  {
   "cell_type": "code",
   "execution_count": 5,
   "id": "56d38fa5-f00c-464e-bcb4-e907d8ee4483",
   "metadata": {},
   "outputs": [],
   "source": [
    "x_train = x_train.values.reshape(-1,28,28,1)\n",
    "x_test = x_test.values.reshape(-1,28,28,1)"
   ]
  },
  {
   "cell_type": "code",
   "execution_count": 6,
   "id": "22a01cd3-dbf4-4fe2-b39b-44c7a9ff7a3c",
   "metadata": {},
   "outputs": [
    {
     "name": "stdout",
     "output_type": "stream",
     "text": [
      "[[0. 0. 0. ... 0. 1. 0.]\n",
      " [0. 0. 0. ... 1. 0. 0.]\n",
      " [0. 0. 0. ... 0. 0. 1.]\n",
      " ...\n",
      " [0. 0. 1. ... 0. 0. 0.]\n",
      " [0. 0. 0. ... 0. 0. 1.]\n",
      " [0. 0. 0. ... 0. 0. 0.]]\n"
     ]
    }
   ],
   "source": [
    "from keras.utils.np_utils import to_categorical # convert to one-hot-encoding\n",
    "y_train = to_categorical(y_train, num_classes = 10)\n",
    "y_test = to_categorical(y_test, num_classes = 10)\n",
    "print(y_train)"
   ]
  },
  {
   "cell_type": "code",
   "execution_count": 7,
   "id": "6b920e71-65ac-4f69-9181-bc02e52f4dad",
   "metadata": {},
   "outputs": [
    {
     "name": "stdout",
     "output_type": "stream",
     "text": [
      "x_train shape (34020, 28, 28, 1)\n"
     ]
    }
   ],
   "source": [
    "from sklearn.model_selection import train_test_split\n",
    "x_train, x_val, y_train, y_val = train_test_split(x_train, y_train, test_size =0.1, random_state=2)\n",
    "print(\"x_train shape\",x_train.shape)"
   ]
  },
  {
   "cell_type": "code",
   "execution_count": 8,
   "id": "54990564-8ee2-43d0-a9bd-8b1067c9662b",
   "metadata": {},
   "outputs": [
    {
     "name": "stderr",
     "output_type": "stream",
     "text": [
      "2022-10-28 00:10:59.478045: I tensorflow/core/platform/cpu_feature_guard.cc:193] This TensorFlow binary is optimized with oneAPI Deep Neural Network Library (oneDNN) to use the following CPU instructions in performance-critical operations:  SSE4.1 SSE4.2\n",
      "To enable them in other operations, rebuild TensorFlow with the appropriate compiler flags.\n"
     ]
    }
   ],
   "source": [
    "from sklearn.metrics import confusion_matrix\n",
    "import itertools\n",
    "\n",
    "from keras.utils.np_utils import to_categorical\n",
    "from keras.models import Sequential\n",
    "from keras.layers import Dense, Dropout, Flatten, Conv2D, MaxPool2D\n",
    "from keras.optimizers import RMSprop, Adam, Adadelta\n",
    "from keras.preprocessing.image import ImageDataGenerator\n",
    "from keras.callbacks import ReduceLROnPlateau\n",
    "\n",
    "model = Sequential([\n",
    "    Conv2D(filters = 8, kernel_size = (5,5), padding = 'Same', activation='relu', input_shape=(28,28,1)),\n",
    "    MaxPool2D(pool_size=(2,2)),\n",
    "    Dropout(0.25),\n",
    "    Conv2D(filters = 16, kernel_size = (3,3), padding = 'Same', activation='relu'),\n",
    "    MaxPool2D(pool_size=(2,2), strides=(2,2)),\n",
    "    Dropout(0.25),\n",
    "    Flatten(),\n",
    "    Dense(256, activation='relu'),\n",
    "    Dropout(0.5),\n",
    "    Dense(10, activation='softmax')\n",
    "])"
   ]
  },
  {
   "cell_type": "code",
   "execution_count": 9,
   "id": "a6eecf33-7a7e-4994-b5bf-6b213a9e15ad",
   "metadata": {},
   "outputs": [],
   "source": [
    "optimizer = Adadelta(lr=0.001)"
   ]
  },
  {
   "cell_type": "code",
   "execution_count": 10,
   "id": "d69b1c36-2d81-42c2-a058-8f538a313e58",
   "metadata": {},
   "outputs": [],
   "source": [
    "#Compile\n",
    "model.compile(optimizer=optimizer, loss=\"categorical_crossentropy\", metrics=[\"accuracy\"])"
   ]
  },
  {
   "cell_type": "code",
   "execution_count": 11,
   "id": "0f92c362-6efb-48f4-b936-d992e436c8fd",
   "metadata": {},
   "outputs": [],
   "source": [
    "epochs = 10\n",
    "batch_size = 250"
   ]
  },
  {
   "cell_type": "code",
   "execution_count": 12,
   "id": "026508f8-2b3c-42c8-8317-936f6f8f1007",
   "metadata": {},
   "outputs": [],
   "source": [
    "#Data Augumentation\n",
    "\n",
    "datagen = ImageDataGenerator(\n",
    "    featurewise_center = False,\n",
    "    samplewise_center = False,\n",
    "    featurewise_std_normalization = False,\n",
    "    samplewise_std_normalization=False,\n",
    "    zca_whitening=False,\n",
    "    rotation_range=0.5,\n",
    "    zoom_range=0.5,\n",
    "    width_shift_range=0.5,\n",
    "    height_shift_range=0.5,\n",
    "    horizontal_flip=False,\n",
    "    vertical_flip=False)"
   ]
  },
  {
   "cell_type": "code",
   "execution_count": 13,
   "id": "08f4c3b5-d937-4d4e-b20d-804a506c66f2",
   "metadata": {},
   "outputs": [],
   "source": [
    "datagen.fit(x_train)"
   ]
  },
  {
   "cell_type": "code",
   "execution_count": 14,
   "id": "0d9e2cc7-2e48-48d2-8110-f7708b3699d5",
   "metadata": {},
   "outputs": [
    {
     "name": "stdout",
     "output_type": "stream",
     "text": [
      "Epoch 1/10\n",
      "136/136 [==============================] - 6s 43ms/step - loss: 2.3312 - accuracy: 0.0998 - val_loss: 2.3132 - val_accuracy: 0.1040\n",
      "Epoch 2/10\n",
      "136/136 [==============================] - 6s 42ms/step - loss: 2.3290 - accuracy: 0.1022 - val_loss: 2.3120 - val_accuracy: 0.1045\n",
      "Epoch 3/10\n",
      "136/136 [==============================] - 6s 41ms/step - loss: 2.3302 - accuracy: 0.0999 - val_loss: 2.3109 - val_accuracy: 0.1040\n",
      "Epoch 4/10\n",
      "136/136 [==============================] - 6s 46ms/step - loss: 2.3274 - accuracy: 0.1049 - val_loss: 2.3099 - val_accuracy: 0.1048\n",
      "Epoch 5/10\n",
      "136/136 [==============================] - 6s 41ms/step - loss: 2.3265 - accuracy: 0.1028 - val_loss: 2.3090 - val_accuracy: 0.1053\n",
      "Epoch 6/10\n",
      "136/136 [==============================] - 6s 41ms/step - loss: 2.3269 - accuracy: 0.1028 - val_loss: 2.3082 - val_accuracy: 0.1058\n",
      "Epoch 7/10\n",
      "136/136 [==============================] - 6s 41ms/step - loss: 2.3285 - accuracy: 0.1008 - val_loss: 2.3075 - val_accuracy: 0.1069\n",
      "Epoch 8/10\n",
      "136/136 [==============================] - 6s 41ms/step - loss: 2.3256 - accuracy: 0.0998 - val_loss: 2.3068 - val_accuracy: 0.1085\n",
      "Epoch 9/10\n",
      "136/136 [==============================] - 6s 42ms/step - loss: 2.3225 - accuracy: 0.1029 - val_loss: 2.3061 - val_accuracy: 0.1098\n",
      "Epoch 10/10\n",
      "136/136 [==============================] - 6s 43ms/step - loss: 2.3208 - accuracy: 0.1051 - val_loss: 2.3055 - val_accuracy: 0.1108\n"
     ]
    }
   ],
   "source": [
    "\n",
    "history = model.fit(datagen.flow(x_train,y_train, batch_size=batch_size), epochs = epochs, validation_data = (x_val,y_val), steps_per_epoch=x_train.shape[0] // batch_size )"
   ]
  },
  {
   "cell_type": "code",
   "execution_count": 15,
   "id": "55f2a72f-5850-46b7-b7ed-65c734b41f8b",
   "metadata": {},
   "outputs": [
    {
     "data": {
      "text/plain": [
       "<AxesSubplot:title={'center':'Adadelta'}>"
      ]
     },
     "execution_count": 15,
     "metadata": {},
     "output_type": "execute_result"
    },
    {
     "data": {
      "image/png": "[encoded data removed]",
      "text/plain": [
       "<Figure size 640x480 with 1 Axes>"
      ]
     },
     "metadata": {},
     "output_type": "display_data"
    }
   ],
   "source": [
    "# plt.plot(history.history['val_loss'], color='b', label=\"validation loss\")\n",
    "# plt.title(\"Loss with adadelta\")\n",
    "# plt.xlabel(\"Number of Epochs\")\n",
    "# plt.ylabel(\"Loss\")\n",
    "# plt.legend()\n",
    "# plt.show()\n",
    "history_df = pd.DataFrame(history.history)\n",
    "history_df.loc[:, ['loss', 'val_loss']].plot(title=\"Adadelta\")\n"
   ]
  },
  {
   "cell_type": "code",
   "execution_count": 16,
   "id": "5a66d2cc-be13-4e41-bcf8-180c924dd016",
   "metadata": {},
   "outputs": [
    {
     "name": "stdout",
     "output_type": "stream",
     "text": [
      "Epoch 1/10\n",
      "136/136 [==============================] - 6s 42ms/step - loss: 2.2069 - accuracy: 0.1798 - val_loss: 1.7446 - val_accuracy: 0.4484\n",
      "Epoch 2/10\n",
      "136/136 [==============================] - 6s 42ms/step - loss: 1.9356 - accuracy: 0.3087 - val_loss: 1.2398 - val_accuracy: 0.6860\n",
      "Epoch 3/10\n",
      "136/136 [==============================] - 6s 42ms/step - loss: 1.7532 - accuracy: 0.3850 - val_loss: 0.9030 - val_accuracy: 0.7688\n",
      "Epoch 4/10\n",
      "136/136 [==============================] - 6s 41ms/step - loss: 1.6285 - accuracy: 0.4349 - val_loss: 0.7013 - val_accuracy: 0.8262\n",
      "Epoch 5/10\n",
      "136/136 [==============================] - 6s 41ms/step - loss: 1.5659 - accuracy: 0.4627 - val_loss: 0.5892 - val_accuracy: 0.8595\n",
      "Epoch 6/10\n",
      "136/136 [==============================] - 6s 42ms/step - loss: 1.4985 - accuracy: 0.4847 - val_loss: 0.5224 - val_accuracy: 0.8735\n",
      "Epoch 7/10\n",
      "136/136 [==============================] - 6s 43ms/step - loss: 1.4459 - accuracy: 0.5044 - val_loss: 0.4209 - val_accuracy: 0.9003\n",
      "Epoch 8/10\n",
      "136/136 [==============================] - 6s 42ms/step - loss: 1.4065 - accuracy: 0.5180 - val_loss: 0.3865 - val_accuracy: 0.9127\n",
      "Epoch 9/10\n",
      "136/136 [==============================] - 6s 44ms/step - loss: 1.3683 - accuracy: 0.5325 - val_loss: 0.3254 - val_accuracy: 0.9138\n",
      "Epoch 10/10\n",
      "136/136 [==============================] - 6s 43ms/step - loss: 1.3523 - accuracy: 0.5379 - val_loss: 0.3171 - val_accuracy: 0.9143\n"
     ]
    }
   ],
   "source": [
    "# Optimizer Adam\n",
    "\n",
    "model_2 = Sequential([\n",
    "    Conv2D(filters = 8, kernel_size = (5,5), padding = 'Same', activation='relu', input_shape=(28,28,1)),\n",
    "    MaxPool2D(pool_size=(2,2)),\n",
    "    Dropout(0.25),\n",
    "    Conv2D(filters = 16, kernel_size = (3,3), padding = 'Same', activation='relu'),\n",
    "    MaxPool2D(pool_size=(2,2), strides=(2,2)),\n",
    "    Dropout(0.25),\n",
    "    Flatten(),\n",
    "    Dense(256, activation='relu'),\n",
    "    Dropout(0.5),\n",
    "    Dense(10, activation='softmax')\n",
    "])\n",
    "\n",
    "optimizer = Adam(lr=0.001, beta_1=0.9, beta_2=0.999)\n",
    "model_2.compile(optimizer=optimizer, loss=\"categorical_crossentropy\", metrics=[\"accuracy\"])\n",
    "history = model_2.fit(datagen.flow(x_train,y_train, batch_size=batch_size), epochs = epochs, validation_data = (x_val,y_val), steps_per_epoch=x_train.shape[0] // batch_size)"
   ]
  },
  {
   "cell_type": "code",
   "execution_count": 17,
   "id": "46bc7a4e-ff61-4018-be57-1a1cceef0c47",
   "metadata": {},
   "outputs": [
    {
     "data": {
      "text/plain": [
       "<AxesSubplot:title={'center':'Adam'}>"
      ]
     },
     "execution_count": 17,
     "metadata": {},
     "output_type": "execute_result"
    },
    {
     "data": {
      "image/png": "[encoded data removed]",
      "text/plain": [
       "<Figure size 640x480 with 1 Axes>"
      ]
     },
     "metadata": {},
     "output_type": "display_data"
    }
   ],
   "source": [
    "history_df = pd.DataFrame(history.history)\n",
    "# plt.plot(, color='b', label=\"validation loss\")\n",
    "# plt.title(\"Loss with adam\")\n",
    "# plt.xlabel(\"Number of Epochs\")\n",
    "# plt.ylabel(\"Loss\")\n",
    "# plt.legend()\n",
    "# plt.show()\n",
    "\n",
    "history_df.loc[:, ['loss', 'val_loss']].plot(title=\"Adam\")\n"
   ]
  },
  {
   "cell_type": "code",
   "execution_count": 18,
   "id": "f9714839-29cb-43f3-b8e3-a63bb3337c6b",
   "metadata": {},
   "outputs": [],
   "source": [
    "# Preventing Overfitting\n",
    "\n",
    "from tensorflow.keras import callbacks\n",
    "early_stopping = callbacks.EarlyStopping(patience=5, min_delta=0.001, restore_best_weights=True)\n",
    "\n",
    "model_3 = Sequential([\n",
    "    Conv2D(filters = 8, kernel_size = (12,10), padding = 'Same', activation='relu', input_shape=(28,28,1)),\n",
    "    MaxPool2D(pool_size=(2,2)),\n",
    "    Dropout(0.25),\n",
    "    Conv2D(filters = 16, kernel_size = (5,5), padding = 'Same', activation='relu'),\n",
    "    Dropout(0.25),\n",
    "    MaxPool2D(pool_size=(2,2), strides=(2,2)),\n",
    "    Dropout(0.25),\n",
    "    Conv2D(filters = 16, kernel_size = (3,3), padding = 'Same', activation='relu'),\n",
    "    Dropout(0.25),\n",
    "    MaxPool2D(pool_size=(2,2), strides=(2,2)),\n",
    "    Dropout(0.25),\n",
    "    Flatten(),\n",
    "    Dense(256, activation='relu'),\n",
    "    Dense(10, activation='softmax')\n",
    "])\n"
   ]
  },
  {
   "cell_type": "code",
   "execution_count": 19,
   "id": "691ec63e-91f6-4e0f-9cfc-e7b8196d69b7",
   "metadata": {},
   "outputs": [],
   "source": [
    "model_3.compile(optimizer=optimizer, loss=\"categorical_crossentropy\", metrics=[\"accuracy\"])"
   ]
  },
  {
   "cell_type": "code",
   "execution_count": 20,
   "id": "35731f0a-c3d5-4e3f-bb6e-706a46ca25e4",
   "metadata": {},
   "outputs": [
    {
     "name": "stdout",
     "output_type": "stream",
     "text": [
      "Epoch 1/10\n",
      "136/136 [==============================] - 9s 64ms/step - loss: 1.9836 - accuracy: 0.2760 - val_loss: 1.2635 - val_accuracy: 0.6450\n",
      "Epoch 2/10\n",
      "136/136 [==============================] - 9s 64ms/step - loss: 1.6537 - accuracy: 0.4099 - val_loss: 0.8700 - val_accuracy: 0.7976\n",
      "Epoch 3/10\n",
      "136/136 [==============================] - 9s 63ms/step - loss: 1.5140 - accuracy: 0.4616 - val_loss: 0.6819 - val_accuracy: 0.8481\n",
      "Epoch 4/10\n",
      "136/136 [==============================] - 9s 64ms/step - loss: 1.4236 - accuracy: 0.5008 - val_loss: 0.6054 - val_accuracy: 0.8516\n",
      "Epoch 5/10\n",
      "136/136 [==============================] - 9s 62ms/step - loss: 1.3658 - accuracy: 0.5208 - val_loss: 0.5506 - val_accuracy: 0.8648\n",
      "Epoch 6/10\n",
      "136/136 [==============================] - 9s 62ms/step - loss: 1.3212 - accuracy: 0.5351 - val_loss: 0.4676 - val_accuracy: 0.8815\n",
      "Epoch 7/10\n",
      "136/136 [==============================] - 9s 63ms/step - loss: 1.2878 - accuracy: 0.5473 - val_loss: 0.4023 - val_accuracy: 0.9005\n",
      "Epoch 8/10\n",
      "136/136 [==============================] - 9s 63ms/step - loss: 1.2585 - accuracy: 0.5635 - val_loss: 0.4083 - val_accuracy: 0.9000\n",
      "Epoch 9/10\n",
      "136/136 [==============================] - 9s 70ms/step - loss: 1.2271 - accuracy: 0.5722 - val_loss: 0.3648 - val_accuracy: 0.9058\n",
      "Epoch 10/10\n",
      "136/136 [==============================] - 13s 92ms/step - loss: 1.2156 - accuracy: 0.5755 - val_loss: 0.3362 - val_accuracy: 0.9222\n"
     ]
    }
   ],
   "source": [
    "history = model_3.fit(datagen.flow(x_train,y_train, batch_size=batch_size), epochs = epochs, validation_data = (x_val,y_val), steps_per_epoch=x_train.shape[0] // batch_size,callbacks=[early_stopping])"
   ]
  },
  {
   "cell_type": "code",
   "execution_count": 21,
   "id": "898b2a43-0cb3-468e-a21d-586881a98757",
   "metadata": {},
   "outputs": [
    {
     "data": {
      "text/plain": [
       "<AxesSubplot:title={'center':'Adam'}>"
      ]
     },
     "execution_count": 21,
     "metadata": {},
     "output_type": "execute_result"
    },
    {
     "data": {
      "image/png": "[encoded data removed]",
      "text/plain": [
       "<Figure size 640x480 with 1 Axes>"
      ]
     },
     "metadata": {},
     "output_type": "display_data"
    }
   ],
   "source": [
    "history_df = pd.DataFrame(history.history)\n",
    "history_df.loc[:, ['loss', 'val_loss']].plot(title=\"Adam\")\n"
   ]
  },
  {
   "cell_type": "markdown",
   "id": "b2c65113-dce7-469b-875b-2a818850bdd8",
   "metadata": {},
   "source": [
    "## Task 2"
   ]
  },
  {
   "cell_type": "code",
   "execution_count": 24,
   "id": "debae6f2-a88f-4a2f-907a-414e448ce6bc",
   "metadata": {},
   "outputs": [
    {
     "name": "stdout",
     "output_type": "stream",
     "text": [
      "Model: \"sequential_4\"\n",
      "_________________________________________________________________\n",
      " Layer (type)                Output Shape              Param #   \n",
      "=================================================================\n",
      " conv2d_8 (Conv2D)           (None, 28, 28, 32)        832       \n",
      "                                                                 \n",
      " average_pooling2d (AverageP  (None, 14, 14, 32)       0         \n",
      " ooling2D)                                                       \n",
      "                                                                 \n",
      " conv2d_9 (Conv2D)           (None, 10, 10, 48)        38448     \n",
      "                                                                 \n",
      " average_pooling2d_1 (Averag  (None, 5, 5, 48)         0         \n",
      " ePooling2D)                                                     \n",
      "                                                                 \n",
      " flatten_3 (Flatten)         (None, 1200)              0         \n",
      "                                                                 \n",
      " dense_6 (Dense)             (None, 256)               307456    \n",
      "                                                                 \n",
      " dense_7 (Dense)             (None, 84)                21588     \n",
      "                                                                 \n",
      " dense_8 (Dense)             (None, 10)                850       \n",
      "                                                                 \n",
      "=================================================================\n",
      "Total params: 369,174\n",
      "Trainable params: 369,174\n",
      "Non-trainable params: 0\n",
      "_________________________________________________________________\n"
     ]
    }
   ],
   "source": [
    "from keras.layers import AveragePooling2D\n",
    "\n",
    "model = Sequential()\n",
    "model.add(Conv2D(filters=32, kernel_size=(5,5), padding='same', activation='relu', input_shape=(28, 28, 1))) \n",
    "model.add(AveragePooling2D(strides=2)) \n",
    "model.add(Conv2D(filters=48, kernel_size=(5,5), padding='valid', activation='relu'))\n",
    "model.add(AveragePooling2D(strides=2))\n",
    "model.add(Flatten())\n",
    "model.add(Dense(256, activation='relu'))\n",
    "model.add(Dense(84, activation='relu'))\n",
    "model.add(Dense(10, activation='softmax'))\n",
    "model.build()\n",
    "model.summary()\n"
   ]
  },
  {
   "cell_type": "code",
   "execution_count": null,
   "id": "c25608a8-3ec5-48d3-9522-1d651820cf25",
   "metadata": {},
   "outputs": [
    {
     "name": "stdout",
     "output_type": "stream",
     "text": [
      "Epoch 1/30\n",
      "339/340 [============================>.] - ETA: 0s - loss: 0.6167 - accuracy: 0.8046WARNING:tensorflow:Learning rate reduction is conditioned on metric `val_acc` which is not available. Available metrics are: loss,accuracy,val_loss,val_accuracy,lr\n",
      "340/340 [==============================] - 8s 23ms/step - loss: 0.6145 - accuracy: 0.8054 - val_loss: 0.1502 - val_accuracy: 0.9529 - lr: 5.0000e-04\n",
      "Epoch 2/30\n",
      "339/340 [============================>.] - ETA: 0s - loss: 0.1861 - accuracy: 0.9442WARNING:tensorflow:Learning rate reduction is conditioned on metric `val_acc` which is not available. Available metrics are: loss,accuracy,val_loss,val_accuracy,lr\n",
      "340/340 [==============================] - 8s 23ms/step - loss: 0.1862 - accuracy: 0.9442 - val_loss: 0.1073 - val_accuracy: 0.9680 - lr: 5.0000e-04\n",
      "Epoch 3/30\n",
      "341/340 [==============================] - ETA: 0s - loss: 0.1381 - accuracy: 0.9577WARNING:tensorflow:Learning rate reduction is conditioned on metric `val_acc` which is not available. Available metrics are: loss,accuracy,val_loss,val_accuracy,lr\n",
      "340/340 [==============================] - 8s 24ms/step - loss: 0.1381 - accuracy: 0.9577 - val_loss: 0.0873 - val_accuracy: 0.9720 - lr: 5.0000e-04\n",
      "Epoch 4/30\n",
      "341/340 [==============================] - ETA: 0s - loss: 0.1133 - accuracy: 0.9658WARNING:tensorflow:Learning rate reduction is conditioned on metric `val_acc` which is not available. Available metrics are: loss,accuracy,val_loss,val_accuracy,lr\n",
      "340/340 [==============================] - 8s 24ms/step - loss: 0.1133 - accuracy: 0.9658 - val_loss: 0.0664 - val_accuracy: 0.9794 - lr: 5.0000e-04\n",
      "Epoch 5/30\n",
      "339/340 [============================>.] - ETA: 0s - loss: 0.1011 - accuracy: 0.9691WARNING:tensorflow:Learning rate reduction is conditioned on metric `val_acc` which is not available. Available metrics are: loss,accuracy,val_loss,val_accuracy,lr\n",
      "340/340 [==============================] - 8s 23ms/step - loss: 0.1011 - accuracy: 0.9690 - val_loss: 0.0602 - val_accuracy: 0.9807 - lr: 5.0000e-04\n",
      "Epoch 6/30\n",
      "341/340 [==============================] - ETA: 0s - loss: 0.0880 - accuracy: 0.9737WARNING:tensorflow:Learning rate reduction is conditioned on metric `val_acc` which is not available. Available metrics are: loss,accuracy,val_loss,val_accuracy,lr\n",
      "340/340 [==============================] - 8s 22ms/step - loss: 0.0880 - accuracy: 0.9737 - val_loss: 0.0526 - val_accuracy: 0.9828 - lr: 5.0000e-04\n",
      "Epoch 7/30\n",
      "339/340 [============================>.] - ETA: 0s - loss: 0.0771 - accuracy: 0.9771WARNING:tensorflow:Learning rate reduction is conditioned on metric `val_acc` which is not available. Available metrics are: loss,accuracy,val_loss,val_accuracy,lr\n",
      "340/340 [==============================] - 8s 22ms/step - loss: 0.0772 - accuracy: 0.9771 - val_loss: 0.0576 - val_accuracy: 0.9833 - lr: 5.0000e-04\n",
      "Epoch 8/30\n",
      "340/340 [============================>.] - ETA: 0s - loss: 0.0685 - accuracy: 0.9775WARNING:tensorflow:Learning rate reduction is conditioned on metric `val_acc` which is not available. Available metrics are: loss,accuracy,val_loss,val_accuracy,lr\n",
      "340/340 [==============================] - 8s 22ms/step - loss: 0.0685 - accuracy: 0.9775 - val_loss: 0.0486 - val_accuracy: 0.9862 - lr: 5.0000e-04\n",
      "Epoch 9/30\n",
      "340/340 [============================>.] - ETA: 0s - loss: 0.0645 - accuracy: 0.9794WARNING:tensorflow:Learning rate reduction is conditioned on metric `val_acc` which is not available. Available metrics are: loss,accuracy,val_loss,val_accuracy,lr\n",
      "340/340 [==============================] - 8s 22ms/step - loss: 0.0644 - accuracy: 0.9794 - val_loss: 0.0493 - val_accuracy: 0.9847 - lr: 5.0000e-04\n",
      "Epoch 10/30\n",
      "340/340 [============================>.] - ETA: 0s - loss: 0.0577 - accuracy: 0.9823WARNING:tensorflow:Learning rate reduction is conditioned on metric `val_acc` which is not available. Available metrics are: loss,accuracy,val_loss,val_accuracy,lr\n",
      "340/340 [==============================] - 8s 22ms/step - loss: 0.0577 - accuracy: 0.9822 - val_loss: 0.0418 - val_accuracy: 0.9868 - lr: 5.0000e-04\n",
      "Epoch 11/30\n",
      "341/340 [==============================] - ETA: 0s - loss: 0.0536 - accuracy: 0.9825WARNING:tensorflow:Learning rate reduction is conditioned on metric `val_acc` which is not available. Available metrics are: loss,accuracy,val_loss,val_accuracy,lr\n",
      "340/340 [==============================] - 9s 26ms/step - loss: 0.0536 - accuracy: 0.9825 - val_loss: 0.0391 - val_accuracy: 0.9889 - lr: 5.0000e-04\n",
      "Epoch 12/30\n",
      "339/340 [============================>.] - ETA: 0s - loss: 0.0518 - accuracy: 0.9847WARNING:tensorflow:Learning rate reduction is conditioned on metric `val_acc` which is not available. Available metrics are: loss,accuracy,val_loss,val_accuracy,lr\n",
      "340/340 [==============================] - 8s 22ms/step - loss: 0.0517 - accuracy: 0.9848 - val_loss: 0.0485 - val_accuracy: 0.9868 - lr: 5.0000e-04\n",
      "Epoch 13/30\n",
      "341/340 [==============================] - ETA: 0s - loss: 0.0469 - accuracy: 0.9855WARNING:tensorflow:Learning rate reduction is conditioned on metric `val_acc` which is not available. Available metrics are: loss,accuracy,val_loss,val_accuracy,lr\n",
      "340/340 [==============================] - 8s 23ms/step - loss: 0.0469 - accuracy: 0.9855 - val_loss: 0.0454 - val_accuracy: 0.9884 - lr: 5.0000e-04\n",
      "Epoch 14/30\n",
      "339/340 [============================>.] - ETA: 0s - loss: 0.0473 - accuracy: 0.9852WARNING:tensorflow:Learning rate reduction is conditioned on metric `val_acc` which is not available. Available metrics are: loss,accuracy,val_loss,val_accuracy,lr\n",
      "340/340 [==============================] - 8s 24ms/step - loss: 0.0473 - accuracy: 0.9853 - val_loss: 0.0467 - val_accuracy: 0.9860 - lr: 5.0000e-04\n",
      "Epoch 15/30\n",
      "340/340 [============================>.] - ETA: 0s - loss: 0.0436 - accuracy: 0.9858WARNING:tensorflow:Learning rate reduction is conditioned on metric `val_acc` which is not available. Available metrics are: loss,accuracy,val_loss,val_accuracy,lr\n",
      "340/340 [==============================] - 8s 22ms/step - loss: 0.0436 - accuracy: 0.9857 - val_loss: 0.0360 - val_accuracy: 0.9897 - lr: 5.0000e-04\n",
      "Epoch 16/30\n",
      "341/340 [==============================] - ETA: 0s - loss: 0.0383 - accuracy: 0.9882WARNING:tensorflow:Learning rate reduction is conditioned on metric `val_acc` which is not available. Available metrics are: loss,accuracy,val_loss,val_accuracy,lr\n",
      "340/340 [==============================] - 8s 22ms/step - loss: 0.0383 - accuracy: 0.9882 - val_loss: 0.0438 - val_accuracy: 0.9889 - lr: 5.0000e-04\n",
      "Epoch 17/30\n",
      "340/340 [============================>.] - ETA: 0s - loss: 0.0407 - accuracy: 0.9866WARNING:tensorflow:Learning rate reduction is conditioned on metric `val_acc` which is not available. Available metrics are: loss,accuracy,val_loss,val_accuracy,lr\n",
      "340/340 [==============================] - 7s 22ms/step - loss: 0.0406 - accuracy: 0.9866 - val_loss: 0.0408 - val_accuracy: 0.9905 - lr: 5.0000e-04\n",
      "Epoch 18/30\n",
      "341/340 [==============================] - ETA: 0s - loss: 0.0361 - accuracy: 0.9881WARNING:tensorflow:Learning rate reduction is conditioned on metric `val_acc` which is not available. Available metrics are: loss,accuracy,val_loss,val_accuracy,lr\n",
      "340/340 [==============================] - 8s 22ms/step - loss: 0.0361 - accuracy: 0.9881 - val_loss: 0.0389 - val_accuracy: 0.9897 - lr: 5.0000e-04\n",
      "Epoch 19/30\n",
      "340/340 [============================>.] - ETA: 0s - loss: 0.0327 - accuracy: 0.9898WARNING:tensorflow:Learning rate reduction is conditioned on metric `val_acc` which is not available. Available metrics are: loss,accuracy,val_loss,val_accuracy,lr\n",
      "340/340 [==============================] - 8s 23ms/step - loss: 0.0326 - accuracy: 0.9898 - val_loss: 0.0385 - val_accuracy: 0.9884 - lr: 5.0000e-04\n",
      "Epoch 20/30\n",
      "341/340 [==============================] - ETA: 0s - loss: 0.0354 - accuracy: 0.9887WARNING:tensorflow:Learning rate reduction is conditioned on metric `val_acc` which is not available. Available metrics are: loss,accuracy,val_loss,val_accuracy,lr\n",
      "340/340 [==============================] - 8s 22ms/step - loss: 0.0354 - accuracy: 0.9887 - val_loss: 0.0357 - val_accuracy: 0.9897 - lr: 5.0000e-04\n",
      "Epoch 21/30\n",
      "339/340 [============================>.] - ETA: 0s - loss: 0.0323 - accuracy: 0.9898WARNING:tensorflow:Learning rate reduction is conditioned on metric `val_acc` which is not available. Available metrics are: loss,accuracy,val_loss,val_accuracy,lr\n",
      "340/340 [==============================] - 8s 22ms/step - loss: 0.0322 - accuracy: 0.9898 - val_loss: 0.0357 - val_accuracy: 0.9905 - lr: 5.0000e-04\n",
      "Epoch 22/30\n",
      "339/340 [============================>.] - ETA: 0s - loss: 0.0310 - accuracy: 0.9907WARNING:tensorflow:Learning rate reduction is conditioned on metric `val_acc` which is not available. Available metrics are: loss,accuracy,val_loss,val_accuracy,lr\n",
      "340/340 [==============================] - 8s 22ms/step - loss: 0.0309 - accuracy: 0.9907 - val_loss: 0.0351 - val_accuracy: 0.9897 - lr: 5.0000e-04\n",
      "Epoch 23/30\n",
      "261/340 [======================>.......] - ETA: 1s - loss: 0.0313 - accuracy: 0.9900"
     ]
    }
   ],
   "source": [
    "adam = Adam(lr=5e-4)\n",
    "model.compile(loss='categorical_crossentropy', metrics=['accuracy'], optimizer=adam)\n",
    "# Set a learning rate annealer\n",
    "reduce_lr = ReduceLROnPlateau(monitor='val_acc', patience=3,verbose=1,factor=0.2,min_lr=1e-6)\n",
    "# Data Augmentation\n",
    "datagen = ImageDataGenerator( rotation_range=10,\n",
    "    width_shift_range=0.1,\n",
    "    height_shift_range=0.1,\n",
    "    zoom_range=0.1)\n",
    "\n",
    "datagen.fit(x_train)\n",
    "model.fit_generator(datagen.flow(x_train,y_train, batch_size=100), steps_per_epoch=len(x_train)/100, epochs=30, validation_data=(x_val,y_val), callbacks=[reduce_lr])"
   ]
  },
  {
   "cell_type": "code",
   "execution_count": null,
   "id": "7d7a366a-2299-4db5-87d2-c98201598238",
   "metadata": {},
   "outputs": [],
   "source": [
    "score = model.evaluate(X_val,Y_val, batch_size=32)"
   ]
  }
 ],
 "metadata": {
  "kernelspec": {
   "display_name": "Python 3 (ipykernel)",
   "language": "python",
   "name": "python3"
  },
  "language_info": {
   "codemirror_mode": {
    "name": "ipython",
    "version": 3
   },
   "file_extension": ".py",
   "mimetype": "text/x-python",
   "name": "python",
   "nbconvert_exporter": "python",
   "pygments_lexer": "ipython3",
   "version": "3.10.6"
  }
 },
 "nbformat": 4,
 "nbformat_minor": 5
}
